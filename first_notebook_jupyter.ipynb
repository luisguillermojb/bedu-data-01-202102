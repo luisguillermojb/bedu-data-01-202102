{
 "cells": [
  {
   "cell_type": "markdown",
   "id": "civil-reduction",
   "metadata": {},
   "source": [
    "# First Jupyter Notebook\n",
    "### Dependencies\n",
    "This needs to have Jupyterlab installed in your virtual enviroment. \n",
    "\n",
    "'''python\n",
    "pip install jupyterlab\n",
    "'''"
   ]
  },
  {
   "cell_type": "code",
   "execution_count": 1,
   "id": "bronze-distinction",
   "metadata": {},
   "outputs": [],
   "source": [
    "first_name = \"Guillermo\""
   ]
  },
  {
   "cell_type": "code",
   "execution_count": 2,
   "id": "satellite-search",
   "metadata": {},
   "outputs": [],
   "source": [
    "last_name = \"Bojórquez\""
   ]
  },
  {
   "cell_type": "code",
   "execution_count": 3,
   "id": "apart-sentence",
   "metadata": {},
   "outputs": [
    {
     "name": "stdout",
     "output_type": "stream",
     "text": [
      "GuillermoGuillermoGuillermoGuillermoGuillermo\n"
     ]
    }
   ],
   "source": [
    "print(first_name*5)"
   ]
  },
  {
   "cell_type": "code",
   "execution_count": null,
   "id": "broad-senator",
   "metadata": {},
   "outputs": [],
   "source": []
  }
 ],
 "metadata": {
  "kernelspec": {
   "display_name": "Python 3",
   "language": "python",
   "name": "python3"
  },
  "language_info": {
   "codemirror_mode": {
    "name": "ipython",
    "version": 3
   },
   "file_extension": ".py",
   "mimetype": "text/x-python",
   "name": "python",
   "nbconvert_exporter": "python",
   "pygments_lexer": "ipython3",
   "version": "3.9.1"
  }
 },
 "nbformat": 4,
 "nbformat_minor": 5
}
