{
 "cells": [
  {
   "cell_type": "code",
   "execution_count": 2,
   "id": "worst-thirty",
   "metadata": {},
   "outputs": [],
   "source": [
    "students = [\n",
    "   { \n",
    "       \"name\":\"Galileo\",\n",
    "    \"age\":31\n",
    "   },  \n",
    "    {\n",
    "    \"name\":\"Omar\",\n",
    "    \"age\":20\n",
    "    },\n",
    "    {\n",
    "    \"name\":\"Fabiola\",\n",
    "    \"age\":20\n",
    "    },\n",
    "    {\n",
    "    \"name\":\"Guillermo\",\n",
    "    \"age\":20\n",
    "    },\n",
    "    {\n",
    "    \"name\":\"Eduardo\",\n",
    "    \"age\":31\n",
    "    },\n",
    "    {\n",
    "    \"name\":\"Armando\",\n",
    "    \"age\":20\n",
    "    },\n",
    "]"
   ]
  },
  {
   "cell_type": "code",
   "execution_count": null,
   "id": "married-sussex",
   "metadata": {},
   "outputs": [],
   "source": [
    "## Homework \n",
    "\n",
    "Calculate the average age from students"
   ]
  }
 ],
 "metadata": {
  "kernelspec": {
   "display_name": "Python 3",
   "language": "python",
   "name": "python3"
  },
  "language_info": {
   "codemirror_mode": {
    "name": "ipython",
    "version": 3
   },
   "file_extension": ".py",
   "mimetype": "text/x-python",
   "name": "python",
   "nbconvert_exporter": "python",
   "pygments_lexer": "ipython3",
   "version": "3.9.1"
  }
 },
 "nbformat": 4,
 "nbformat_minor": 5
}
